{
 "cells": [
  {
   "cell_type": "markdown",
   "metadata": {},
   "source": [
    "Part 1"
   ]
  },
  {
   "cell_type": "code",
   "execution_count": 64,
   "metadata": {},
   "outputs": [],
   "source": [
    "#Red Noses Reports - no prints\n",
    "\n",
    "reports = []\n",
    "\n",
    "with open('Day2-data.txt', 'r') as file:\n",
    "    data = file.readlines()\n",
    "    for line in data:\n",
    "        levels = line.strip('\\n').split(' ')\n",
    "        reports.append(levels)\n",
    "# print(reports)"
   ]
  },
  {
   "cell_type": "code",
   "execution_count": 65,
   "metadata": {},
   "outputs": [],
   "source": [
    "# Good for both part 1 and 2\n",
    "\n",
    "def IsSafe(report) -> bool:\n",
    "    increasing = True if int(report[1]) > int(report[0]) else False\n",
    "    level_deffer = [1, 2, 3] if increasing else [-1, -2, -3]\n",
    "\n",
    "    for level in range(1, len(report)):\n",
    "        if int(report[level]) - int(report[level-1]) not in level_deffer:\n",
    "            return False\n",
    "        \n",
    "    return True\n",
    "   "
   ]
  },
  {
   "cell_type": "code",
   "execution_count": 66,
   "metadata": {},
   "outputs": [
    {
     "name": "stdout",
     "output_type": "stream",
     "text": [
      "257\n"
     ]
    }
   ],
   "source": [
    "safe_report = 0\n",
    "\n",
    "for report in reports:\n",
    "\n",
    "    if IsSafe(report):\n",
    "        safe_report += 1\n",
    "\n",
    "print(safe_report)"
   ]
  },
  {
   "cell_type": "markdown",
   "metadata": {},
   "source": [
    "Part 2"
   ]
  },
  {
   "cell_type": "code",
   "execution_count": 62,
   "metadata": {},
   "outputs": [],
   "source": [
    "def ProblemDampener(report):\n",
    "    safe = False\n",
    "    for i in range(len(report)):\n",
    "        new_report = report.copy()\n",
    "        del(new_report[i])\n",
    "\n",
    "        if IsSafe(new_report):\n",
    "          safe = True\n",
    "          break  \n",
    "\n",
    "    return safe"
   ]
  },
  {
   "cell_type": "code",
   "execution_count": 67,
   "metadata": {},
   "outputs": [
    {
     "name": "stdout",
     "output_type": "stream",
     "text": [
      "328\n"
     ]
    }
   ],
   "source": [
    "safe_report = 0\n",
    "\n",
    "for report in reports:\n",
    "    if ProblemDampener(report):\n",
    "        safe_report += 1\n",
    "\n",
    "print(safe_report)"
   ]
  },
  {
   "cell_type": "markdown",
   "metadata": {},
   "source": []
  }
 ],
 "metadata": {
  "kernelspec": {
   "display_name": "base",
   "language": "python",
   "name": "python3"
  },
  "language_info": {
   "codemirror_mode": {
    "name": "ipython",
    "version": 3
   },
   "file_extension": ".py",
   "mimetype": "text/x-python",
   "name": "python",
   "nbconvert_exporter": "python",
   "pygments_lexer": "ipython3",
   "version": "3.13.0"
  }
 },
 "nbformat": 4,
 "nbformat_minor": 2
}
