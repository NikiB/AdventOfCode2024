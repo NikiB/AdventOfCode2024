{
 "cells": [
  {
   "cell_type": "markdown",
   "metadata": {},
   "source": [
    "Part 1"
   ]
  },
  {
   "cell_type": "code",
   "execution_count": 41,
   "metadata": {},
   "outputs": [],
   "source": [
    "# Upload data\n",
    "\n",
    "with open('Day4-data.txt', 'r') as file:\n",
    "    data = file.readlines()\n",
    "\n",
    "xmas_word = 'XMAS'\n",
    "\n",
    "# Convert to a 2D list\n",
    "grid = [list(row.strip('\\n')) for row in data]"
   ]
  },
  {
   "cell_type": "code",
   "execution_count": 39,
   "metadata": {},
   "outputs": [],
   "source": [
    "data = ['MMMSXXMASM',\n",
    "        'MSAMXMSMSA',\n",
    "        'AMXSXMAAMM',\n",
    "        'MSAMASMSMX',\n",
    "        'XMASAMXAMM',\n",
    "        'XXAMMXXAMA',\n",
    "        'SMSMSASXSS',\n",
    "        'SAXAMASAAA',\n",
    "        'MAMMMXMMMM',\n",
    "        'MXMXAXMASX']\n",
    "grid = [list(row.strip('\\n')) for row in data]\n",
    "# print(grid)"
   ]
  },
  {
   "cell_type": "code",
   "execution_count": 25,
   "metadata": {},
   "outputs": [
    {
     "name": "stdout",
     "output_type": "stream",
     "text": [
      "2547\n"
     ]
    }
   ],
   "source": [
    "occurrences = []\n",
    "\n",
    "directions = [\n",
    "        (0, 1),   # Horizontal right\n",
    "        (0, -1),  # Horizontal left\n",
    "        (1, 0),   # Vertical down\n",
    "        (-1, 0),  # Vertical up\n",
    "        (1, 1),   # Diagonal down-right\n",
    "        (1, -1),  # Diagonal down-left\n",
    "        (-1, 1),  # Diagonal up-right\n",
    "        (-1, -1)  # Diagonal up-left\n",
    "    ]\n",
    "\n",
    "rows = len(grid)\n",
    "cols = len(grid[0])\n",
    "\n",
    "for row in range(rows):\n",
    "        for col in range(cols):\n",
    "            for dr, dc in directions:\n",
    "                # Check bounds for the word\n",
    "                if 0 <= row + (len(xmas_word) - 1) * dr < rows and 0 <= col + (len(xmas_word) - 1) * dc < cols:\n",
    "                    search = True\n",
    "                    for letter in range(len(xmas_word)):\n",
    "                        if grid[row + letter * dr][col + letter * dc] != xmas_word[letter]:\n",
    "                            search = False\n",
    "                            break\n",
    "                    if search:\n",
    "                        occurrences.append((row, col, dr, dc))\n",
    "\n",
    "print(len(occurrences))\n",
    "\n"
   ]
  },
  {
   "cell_type": "markdown",
   "metadata": {},
   "source": [
    "Part 2"
   ]
  },
  {
   "cell_type": "code",
   "execution_count": 28,
   "metadata": {},
   "outputs": [],
   "source": [
    "def print_grid(grid):\n",
    "    for row in grid:\n",
    "        print(row)"
   ]
  },
  {
   "cell_type": "code",
   "execution_count": 42,
   "metadata": {},
   "outputs": [
    {
     "name": "stdout",
     "output_type": "stream",
     "text": [
      "1939\n"
     ]
    }
   ],
   "source": [
    "xmas_word = [['M.S',\n",
    "             '.A.',\n",
    "             'M.S'],\n",
    "             ['M.M',\n",
    "             '.A.',\n",
    "             'S.S'],\n",
    "             ['S.S',\n",
    "             '.A.',\n",
    "             'M.M'],\n",
    "             ['S.M',\n",
    "             '.A.',\n",
    "             'S.M']]\n",
    "\n",
    "rows = len(grid)\n",
    "cols = len(grid[0])\n",
    "word_grid = len(xmas_word[0])\n",
    "\n",
    "occurrences = []\n",
    "\n",
    "def matches_pattern(start_row, start_col, pattern):\n",
    "        for i in range(word_grid):\n",
    "            for j in range(word_grid):\n",
    "                grid_row = start_row + i\n",
    "                grid_col = start_col + j\n",
    "                if not (0 <= grid_row < rows and 0 <= grid_col < cols):\n",
    "                    return False\n",
    "                if pattern[i][j] != '.' and pattern[i][j] != grid[grid_row][grid_col]:\n",
    "                    return False\n",
    "        return True\n",
    "\n",
    "for row in range(rows):\n",
    "    for col in range(cols):\n",
    "            for pattern in xmas_word:\n",
    "                if row + word_grid <= rows and col + word_grid <= cols:\n",
    "                    if matches_pattern(row, col, pattern):\n",
    "                        occurrences.append((pattern, row, col))\n",
    "\n",
    "# print(occurrences)\n",
    "# print_grid(grid)\n",
    "print(len(occurrences))"
   ]
  },
  {
   "cell_type": "code",
   "execution_count": null,
   "metadata": {},
   "outputs": [],
   "source": []
  }
 ],
 "metadata": {
  "kernelspec": {
   "display_name": "Advent",
   "language": "python",
   "name": "python3"
  },
  "language_info": {
   "codemirror_mode": {
    "name": "ipython",
    "version": 3
   },
   "file_extension": ".py",
   "mimetype": "text/x-python",
   "name": "python",
   "nbconvert_exporter": "python",
   "pygments_lexer": "ipython3",
   "version": "3.13.0"
  }
 },
 "nbformat": 4,
 "nbformat_minor": 2
}
