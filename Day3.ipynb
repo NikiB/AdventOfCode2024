{
 "cells": [
  {
   "cell_type": "markdown",
   "metadata": {},
   "source": [
    "Part 1"
   ]
  },
  {
   "cell_type": "code",
   "execution_count": 2,
   "metadata": {},
   "outputs": [],
   "source": [
    "import re\n",
    "import sys"
   ]
  },
  {
   "cell_type": "code",
   "execution_count": 28,
   "metadata": {},
   "outputs": [],
   "source": [
    "# Upload data\n",
    "\n",
    "with open('Day3-data.txt', 'r') as file:\n",
    "    data = file.read()\n",
    "    \n",
    "# print(data)"
   ]
  },
  {
   "cell_type": "code",
   "execution_count": 19,
   "metadata": {},
   "outputs": [
    {
     "name": "stdout",
     "output_type": "stream",
     "text": [
      "175615763\n"
     ]
    }
   ],
   "source": [
    "# data = 'xmul(2,4)%&mul[3,7]!@^do_not_mul(5,5)+mul(32,64]then(mul(11,8)mul(8,5))'\n",
    "valid_mul = re.findall(r'mul\\((\\d{1,3}),(\\d{1,3})\\)', data)\n",
    "# print(valid_mul)\n",
    "\n",
    "result = 0\n",
    "\n",
    "for x, y in valid_mul:\n",
    "    result+=int(x)*int(y)\n",
    "\n",
    "print(result)"
   ]
  },
  {
   "cell_type": "markdown",
   "metadata": {},
   "source": [
    "Part 2"
   ]
  },
  {
   "cell_type": "code",
   "execution_count": 29,
   "metadata": {},
   "outputs": [
    {
     "name": "stdout",
     "output_type": "stream",
     "text": [
      "74361272\n"
     ]
    }
   ],
   "source": [
    "# data = \"xmul(2,4)&mul[3,7]!^don't()_mul(5,5)+mul(32,64](mul(11,8)undo()?mul(8,5))\"\n",
    "\n",
    "result2 = 0\n",
    "enabled = True\n",
    "\n",
    "for memo in re.findall(r\"mul\\(\\d{1,3},\\d{1,3}\\)|do\\(\\)|don't\\(\\)\", data):\n",
    "    # print (memo)\n",
    "    if memo == \"do()\":\n",
    "        enabled = True\n",
    "    elif memo == \"don't()\":\n",
    "        enabled = False\n",
    "    else:\n",
    "        if enabled:\n",
    "            x, y = memo[4:-1].split(',')\n",
    "            result2+=int(x)*int(y)\n",
    "            # print(x, y, result2)\n",
    "\n",
    "print(result2)\n",
    "\n"
   ]
  },
  {
   "cell_type": "code",
   "execution_count": null,
   "metadata": {},
   "outputs": [],
   "source": []
  }
 ],
 "metadata": {
  "kernelspec": {
   "display_name": "Advent",
   "language": "python",
   "name": "python3"
  },
  "language_info": {
   "codemirror_mode": {
    "name": "ipython",
    "version": 3
   },
   "file_extension": ".py",
   "mimetype": "text/x-python",
   "name": "python",
   "nbconvert_exporter": "python",
   "pygments_lexer": "ipython3",
   "version": "3.13.0"
  }
 },
 "nbformat": 4,
 "nbformat_minor": 2
}
