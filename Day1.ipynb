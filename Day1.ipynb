{
 "cells": [
  {
   "cell_type": "code",
   "execution_count": 1,
   "metadata": {},
   "outputs": [],
   "source": [
    "import numpy as np\n",
    "import csv\n",
    "\n"
   ]
  },
  {
   "cell_type": "code",
   "execution_count": 9,
   "metadata": {},
   "outputs": [],
   "source": [
    "list1 = []\n",
    "list2 = []\n",
    "\n",
    "with open('Day1-data.txt', 'r') as file:\n",
    "    data = file.readlines()\n",
    "    for line in data:\n",
    "        list1.append(int(line.split('   ')[0].strip()))\n",
    "        list2.append(int(line.split('   ')[1].strip()))\n"
   ]
  },
  {
   "cell_type": "code",
   "execution_count": 11,
   "metadata": {},
   "outputs": [
    {
     "name": "stdout",
     "output_type": "stream",
     "text": [
      "2000468\n"
     ]
    }
   ],
   "source": [
    "# Comparing the lists\n",
    "\n",
    "list1.sort()\n",
    "list2.sort()\n",
    "tot_dist = 0\n",
    "\n",
    "for i in range(len(list1)):\n",
    "    tot_dist += abs(int(list1[i]) - int(list2[i]))\n",
    "\n",
    "print(tot_dist)"
   ]
  },
  {
   "cell_type": "markdown",
   "metadata": {},
   "source": [
    "Part 2"
   ]
  },
  {
   "cell_type": "code",
   "execution_count": 12,
   "metadata": {},
   "outputs": [
    {
     "name": "stdout",
     "output_type": "stream",
     "text": [
      "18567089\n"
     ]
    }
   ],
   "source": [
    "similarity_score = 0\n",
    "\n",
    "for id in list1:\n",
    "    if id in list2:\n",
    "        accuracy = list2.count(id)\n",
    "        similarity_score += accuracy*id\n",
    "\n",
    "print(similarity_score)\n",
    "\n"
   ]
  },
  {
   "cell_type": "markdown",
   "metadata": {},
   "source": []
  }
 ],
 "metadata": {
  "kernelspec": {
   "display_name": "base",
   "language": "python",
   "name": "python3"
  },
  "language_info": {
   "codemirror_mode": {
    "name": "ipython",
    "version": 3
   },
   "file_extension": ".py",
   "mimetype": "text/x-python",
   "name": "python",
   "nbconvert_exporter": "python",
   "pygments_lexer": "ipython3",
   "version": "3.13.0"
  }
 },
 "nbformat": 4,
 "nbformat_minor": 2
}
